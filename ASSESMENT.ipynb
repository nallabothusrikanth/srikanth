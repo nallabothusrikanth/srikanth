{
  "nbformat": 4,
  "nbformat_minor": 0,
  "metadata": {
    "colab": {
      "provenance": []
    },
    "kernelspec": {
      "name": "python3",
      "display_name": "Python 3"
    },
    "language_info": {
      "name": "python"
    }
  },
  "cells": [
    {
      "cell_type": "code",
      "source": [
        "import os\n",
        "print(os.getcwd())"
      ],
      "metadata": {
        "colab": {
          "base_uri": "https://localhost:8080/"
        },
        "id": "6EsRV8ez2buO",
        "outputId": "1654e272-006a-47b5-fa2f-d3a447691453"
      },
      "execution_count": 11,
      "outputs": [
        {
          "output_type": "stream",
          "name": "stdout",
          "text": [
            "/content\n"
          ]
        }
      ]
    },
    {
      "cell_type": "code",
      "source": [
        "file_path = 'ganeshASSESMENTFILE.txt'"
      ],
      "metadata": {
        "id": "k8eBt-a_2mmr"
      },
      "execution_count": 12,
      "outputs": []
    },
    {
      "cell_type": "code",
      "source": [
        "with open(file_path, 'r') as file:\n",
        "    text = file.read()"
      ],
      "metadata": {
        "id": "DxcRqrcu4BQ-"
      },
      "execution_count": 17,
      "outputs": []
    },
    {
      "cell_type": "code",
      "source": [
        "import re"
      ],
      "metadata": {
        "id": "wo-EyQga4HLL"
      },
      "execution_count": 18,
      "outputs": []
    },
    {
      "cell_type": "code",
      "source": [
        "cleaned_text = re.sub(r'[^a-zA-Z\\s]', '', text)"
      ],
      "metadata": {
        "id": "NT65Njte4Lez"
      },
      "execution_count": 19,
      "outputs": []
    },
    {
      "cell_type": "code",
      "source": [
        "print(cleaned_text)"
      ],
      "metadata": {
        "colab": {
          "base_uri": "https://localhost:8080/"
        },
        "id": "nvwcZFnm4LlL",
        "outputId": "2ec4b48b-cd93-4bee-8b67-f48ec438a4d4"
      },
      "execution_count": 20,
      "outputs": [
        {
          "output_type": "stream",
          "name": "stdout",
          "text": [
            "For example a normalization Protocol may involve a  robust multiarray average RMA normalization  Action that uses Bioconductor  affy  Software  with certain Para meterValues  Data types Description  BibliographicReferences  DatabaseEntry  URI  and FileAttachment enable researchers to freely add additional annotations to certain data types  DimensionElement  Investigation  Protocol  ProtocolApplication  and Data  For example researchers can annotate a Gene with one or more DatabaseEntries  referring to unique database accession numbers for automated data integration A unique feature of XGAP is the uniform treatment of the various trait and subject annotations The drawback of allowing users to freely add additional annotations such as described above is that users and tools using metabolite and gene traits for example would have to inspect each Trait instance to see whether it is actually a metabolite or gene and how it is annotated That is why we instead use the objectoriented method of  inheritance  to explicitly add essential properties to Trait and Subject variants to make sure that they are described in a uniform way For example Metabolite extends Trait  which explicitly adds properties ID Name and Type inherited from DimensionElement  to metabolite specific properties Mass Formula and Structure See Jones et al  for the complete FuGE specifi cations and Jones and Paton  for a discussion on the benefits and drawbacks of alternative mechanisms for supporting extension in object models Table  illustrates the usage of these annotation data types Another feature of XGAP is the uniform treatment of all data on these subjects and traits To understand basic data in XGAP newcomers just have to learn that all data are stored as Data matrices with each DataElement describing an observation on Subjects andor Traits rows  columns Unlike the proven matrix structures used in MAGETAB tabular format for microarray gene expression experiments  in XGAP these data can be on any Trait andor Subject combination that is we did not create many variants of DataElement to accommodate each combination of Trait and Subject such as MAGETAB  s ExpressionDataElement Probe  Sample MassSpecDataElement MassPeak  Sample eQtlMappingDataElement Marker  Probe and so on Instead we store all these data using the generic type DataElement and limit extension to Trait and Subject only This avoids the combinatorial explo sion of DataElement extensions so researchers can provide basic data as common data matrices of DataElements  and can still add particular annotations flexibly to the matrix row and columns to allow for new biotechnologies as demonstrated in the various Trait extensions in Figure  Keeping this simple and uniform data structure greatly enhances data and software reusability and hence productivity in line with the findings by Brazma et al  and Rayner et al  that the simple tabular structures underlying biological data should be exploited instead of making it overly complicated After structural homogenization such as provided by FuGE and XGAP semantic queries are the remaining major barrier for integration of experimental metadata This requires ontologies that describe the properties of the materials and also descriptions of experimental pro cesses data and instruments The former are provided by speciesspecific ontologies that are available from various sources The Ontology for BioMedical investigation  may provide a solution for the experimental descriptors and is being used in this context by for example the Immune Epitope Database  To enable researchers to use these well understood descriptors XGAP inherits from FuGE the mechanism of  annotations   a special field to link any data object to one or more ontology terms For example researchers can annotate a Gene with one or more OntologyTerms if required referring to standard ontology terms from OBO  or ontology terms defined locally To enable data exchange using the XGAP model we produced a simple textfile format XGAPTAB based on the experience that for data formats to be used data files should be easily created using simple Excel and text editor tools and closely resemble existing practices This format is automatically derived from the model by requiring that all annotations on Investigations  Protocols  Traits  Subjects  and extensions thereof are described as delimited text files one file per data type with columns matching the properties described in the object model and each row describing one data instance Optionally sets of DataElements can also be formatted as separate text matrices with row and column names matching these in the Trait and Subject annotation files and with each matrix value matching one DataElement  The dimensions of each data matrix are then listed by a row in the annotations on Data  Figure  shows one investigation in the XGAP tabular data format with one delimited text file per data type that is there are files named  probetxt  and  individual txt   with each row describing a microarray probe or individual respectively  and one text matrix file per set of DataElements  that is there are files named  data expressionstxt  and  datagenotypestxt   The properties of each data matrix is then described in  datatxt   that is for the  dataexpressionstxt  there is a row in  data txt  that says that its columns refer to  individualtxt   that its rows refer to  probetxt  and that its values are  decimal   Raw data sets and data sets in other formats can be retained in a directory labeled  original   After proving its value in several proprietary projects a growing array of public data sets are now available at  demonstrating the use of XGAPTAB  A pilot software infrastructure is available at  to help genotypetophenotype researchers to adopt XGAP as a backbone for their data and tool integration We chose to use the MOLGENIS toolkit biosoftware generator for MOLecular GENetics Information Systems see Materials and methods to autogenerate from the XGAP model  an SQL Structured Query Language for relational databases file with all necessary statements for setting up your own customized variant of the XGAP database  application programming interfaces APIs in R Java and Web Services that allow bioinformaticians to plugin their R processing scripts Taverna workflows  and other tools  a bespoke webbased graphical user interface GUI by which researchers can submit and retrieve data and run pluggedin tools and  importexport wizards to un load and validate data sets exchanged in XGAPTAB format The autogeneration process can be repeated to quickly customize XGAP from an extended model for example to accommodate a particular new type of measurement technology or experimental design Figure  shows the GUI to upload manage find and download genotype and phenotype data to the database The GUI is generated with a uniform  lookandfeel   thereby lowering the barrier for novice users Investigations can be described with all subjects traits data and protocol applications involved  The numbers refer to steps in the figure Data can be entered using either the edit boxes or using menuoption  fileupload   This option enables upload of whole lists of traits and subjects from a simple tabdelimited format  which can easily be produced with Excel or R MOLGENIS automatically generates online documentation describing the expected format  Subsequently the protocol applications involved can be added with the resulting raw data for example genetic fingerprints expression profiles and processed data for example normalized profiles QTL profiles metabolic networks These data can be uploaded again using the common tabdelimited format or custom parsers  that bioinformaticians can  plugin  for specific file formats for example Affymetrix CEL files The software behind the GUI checks the relationships between subjects traits and data elements so no  orphaned  data are loaded into the database  for example genetic fingerprint data cannot be added before all information is uploaded on the markers and subjects involved Standard paths through the data upload process are employed to ensure that only complete and valid data are uploaded and to provide a consistent user experience Biologists can use the graphical user interface to navi gate and retrieve available data for analysis They can use the advanced search options  to find certain traits subjects or data Using menu option  filedown load   they can download visibleselected  data as tabdelimited files to analyze them in third party software Bioinformaticians can  plugin  a custombuilt screen see  customization  section that allows processing of selected data inside the GUI for example visua lizing a correlation matrix as a graph  without the additional steps of downloading data and uploading it into another tool Biologists can create linkouts to related information for example to probes in GeneNet workorg not shown Table  summarizes use cases of the graphical user interface De facto standard analysis tools are emerging for example tools for transcript data  or metabolite abundance data  to mention just a few These tools are typically implemented using the open source software for statistical analysis and graphics named R  Bioinformaticians can connect their particular R or Java programs to the XGAP database using an API with similar functionality to the GUI that is using simple commands like  find    add  and  update  RAPI Java API Scripts in other programming languages and workflow tools like Taverna  can use\n"
          ]
        }
      ]
    },
    {
      "cell_type": "code",
      "source": [
        "with open(file_path, 'w') as file:\n",
        "    file.write(cleaned_text)"
      ],
      "metadata": {
        "id": "3OK4IPaD6UH9"
      },
      "execution_count": 21,
      "outputs": []
    }
  ]
}